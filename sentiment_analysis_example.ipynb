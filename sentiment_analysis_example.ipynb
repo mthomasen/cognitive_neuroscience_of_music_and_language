{
  "nbformat": 4,
  "nbformat_minor": 0,
  "metadata": {
    "colab": {
      "provenance": [],
      "authorship_tag": "ABX9TyNYqUoAZu1ISOc/vol6a0zp",
      "include_colab_link": true
    },
    "kernelspec": {
      "name": "python3",
      "display_name": "Python 3"
    },
    "language_info": {
      "name": "python"
    }
  },
  "cells": [
    {
      "cell_type": "markdown",
      "metadata": {
        "id": "view-in-github",
        "colab_type": "text"
      },
      "source": [
        "<a href=\"https://colab.research.google.com/github/mthomasen/cognitive_neuroscience_of_music_and_language/blob/main/sentiment_analysis_example.ipynb\" target=\"_parent\"><img src=\"https://colab.research.google.com/assets/colab-badge.svg\" alt=\"Open In Colab\"/></a>"
      ]
    },
    {
      "cell_type": "code",
      "execution_count": 2,
      "metadata": {
        "colab": {
          "base_uri": "https://localhost:8080/"
        },
        "id": "iO4q6jyH9V1o",
        "outputId": "ddce831b-3a9c-419b-b450-7cee6d2e9804"
      },
      "outputs": [
        {
          "output_type": "stream",
          "name": "stdout",
          "text": [
            "Looking in indexes: https://pypi.org/simple, https://us-python.pkg.dev/colab-wheels/public/simple/\n",
            "Requirement already satisfied: vaderSentiment in /usr/local/lib/python3.7/dist-packages (3.3.2)\n",
            "Requirement already satisfied: requests in /usr/local/lib/python3.7/dist-packages (from vaderSentiment) (2.23.0)\n",
            "Requirement already satisfied: chardet<4,>=3.0.2 in /usr/local/lib/python3.7/dist-packages (from requests->vaderSentiment) (3.0.4)\n",
            "Requirement already satisfied: certifi>=2017.4.17 in /usr/local/lib/python3.7/dist-packages (from requests->vaderSentiment) (2022.9.24)\n",
            "Requirement already satisfied: idna<3,>=2.5 in /usr/local/lib/python3.7/dist-packages (from requests->vaderSentiment) (2.10)\n",
            "Requirement already satisfied: urllib3!=1.25.0,!=1.25.1,<1.26,>=1.21.1 in /usr/local/lib/python3.7/dist-packages (from requests->vaderSentiment) (1.24.3)\n",
            "Looking in indexes: https://pypi.org/simple, https://us-python.pkg.dev/colab-wheels/public/simple/\n",
            "Requirement already satisfied: pandas in /usr/local/lib/python3.7/dist-packages (1.3.5)\n",
            "Requirement already satisfied: numpy>=1.17.3 in /usr/local/lib/python3.7/dist-packages (from pandas) (1.21.6)\n",
            "Requirement already satisfied: python-dateutil>=2.7.3 in /usr/local/lib/python3.7/dist-packages (from pandas) (2.8.2)\n",
            "Requirement already satisfied: pytz>=2017.3 in /usr/local/lib/python3.7/dist-packages (from pandas) (2022.5)\n",
            "Requirement already satisfied: six>=1.5 in /usr/local/lib/python3.7/dist-packages (from python-dateutil>=2.7.3->pandas) (1.15.0)\n",
            "Looking in indexes: https://pypi.org/simple, https://us-python.pkg.dev/colab-wheels/public/simple/\n",
            "Collecting PyPDF2\n",
            "  Downloading PyPDF2-2.11.1-py3-none-any.whl (220 kB)\n",
            "\u001b[K     |████████████████████████████████| 220 kB 34.0 MB/s \n",
            "\u001b[?25hRequirement already satisfied: typing-extensions>=3.10.0.0 in /usr/local/lib/python3.7/dist-packages (from PyPDF2) (4.1.1)\n",
            "Installing collected packages: PyPDF2\n",
            "Successfully installed PyPDF2-2.11.1\n"
          ]
        }
      ],
      "source": [
        "!pip install vaderSentiment\n",
        "!pip install pandas\n",
        "!pip install PyPDF2"
      ]
    },
    {
      "cell_type": "code",
      "source": [
        "import pandas as pd\n",
        "import os\n",
        "import PyPDF2 as pdf\n",
        "from vaderSentiment.vaderSentiment import SentimentIntensityAnalyzer as v"
      ],
      "metadata": {
        "id": "O5Pd6qVACX42"
      },
      "execution_count": 6,
      "outputs": []
    },
    {
      "cell_type": "code",
      "source": [
        "# creating dataframe for the lyrics \n",
        "pdf_file = open('lyrics_my_valentine_roy_edwin_williams', 'rb') \n",
        "\n",
        "pdf_reader = pdf.PdfFileReader(pdf_file)\n",
        "\n",
        "page_object = pdf_reader.getPage(0)\n",
        "\n",
        "lyric_text = print(page_object.extractText())\n",
        "\n",
        "pdf_file.close()\n"
      ],
      "metadata": {
        "colab": {
          "base_uri": "https://localhost:8080/",
          "height": 236
        },
        "id": "Ul73oQG1CJJ8",
        "outputId": "6bce9939-8356-4076-f2ab-54985fd39408"
      },
      "execution_count": 4,
      "outputs": [
        {
          "output_type": "error",
          "ename": "FileNotFoundError",
          "evalue": "ignored",
          "traceback": [
            "\u001b[0;31m---------------------------------------------------------------------------\u001b[0m",
            "\u001b[0;31mFileNotFoundError\u001b[0m                         Traceback (most recent call last)",
            "\u001b[0;32m<ipython-input-4-71fabfece796>\u001b[0m in \u001b[0;36m<module>\u001b[0;34m\u001b[0m\n\u001b[1;32m      1\u001b[0m \u001b[0;31m# creating dataframe for the lyrics\u001b[0m\u001b[0;34m\u001b[0m\u001b[0;34m\u001b[0m\u001b[0;34m\u001b[0m\u001b[0m\n\u001b[0;32m----> 2\u001b[0;31m \u001b[0mpdf_file\u001b[0m \u001b[0;34m=\u001b[0m \u001b[0mopen\u001b[0m\u001b[0;34m(\u001b[0m\u001b[0;34m'lyrics_my_valentine_roy_edwin_williams'\u001b[0m\u001b[0;34m,\u001b[0m \u001b[0;34m'rb'\u001b[0m\u001b[0;34m)\u001b[0m\u001b[0;34m\u001b[0m\u001b[0;34m\u001b[0m\u001b[0m\n\u001b[0m\u001b[1;32m      3\u001b[0m \u001b[0;34m\u001b[0m\u001b[0m\n\u001b[1;32m      4\u001b[0m \u001b[0mpdf_reader\u001b[0m \u001b[0;34m=\u001b[0m \u001b[0mpdf\u001b[0m\u001b[0;34m.\u001b[0m\u001b[0mPdfFileReader\u001b[0m\u001b[0;34m(\u001b[0m\u001b[0mpdf_file\u001b[0m\u001b[0;34m)\u001b[0m\u001b[0;34m\u001b[0m\u001b[0;34m\u001b[0m\u001b[0m\n\u001b[1;32m      5\u001b[0m \u001b[0;34m\u001b[0m\u001b[0m\n",
            "\u001b[0;31mFileNotFoundError\u001b[0m: [Errno 2] No such file or directory: 'lyrics_my_valentine_roy_edwin_williams'"
          ]
        }
      ]
    },
    {
      "cell_type": "code",
      "source": [
        "#Function to print sentiment \n",
        "\n",
        "def sentiment_score(text):\n",
        "  #sentiment intensity analyzer object\n",
        "  sia_obj = v()\n",
        "  #gives sentiment dictionary which contains positive, negative and neutral compund scores\n",
        "  sentiment_dictionary = sia_obj.polarity_scores(text)\n",
        "\n",
        "  # Printing the percentage of negative, positive and neutral sentiment in the text\n",
        "  print(\"Text is rated as \", sentiment_dictionary['neg']*100, \"% negative\")\n",
        "  print(\"Text is rated as \", sentiment_dictionary['neu']*100, \"% neutral\")\n",
        "  print(\"Text is rated as \", sentiment_dictionary['pos']*100, \"% positive\")\n",
        "\n",
        "  #The overall sentiment score \n",
        "  print(\"The overall sentiment is \", sentiment_dictionary['compund'])\n",
        "\n",
        "  #Deciding the sentiment as positive, negative or neutral \n",
        "  print(\"Text is overall rated as\", end= \" \")\n",
        "  if sentiment_dictionary['compound']>= 0.05 :\n",
        "    print(\"Positive\")\n",
        "\n",
        "  elif sentiment_dictionary['compound']<= -0.05 :\n",
        "    print(\"Negative\")\n",
        "\n",
        "  else :\n",
        "    print(\"Neutral\")"
      ],
      "metadata": {
        "id": "2NtxjfVk9r1r"
      },
      "execution_count": null,
      "outputs": []
    }
  ]
}